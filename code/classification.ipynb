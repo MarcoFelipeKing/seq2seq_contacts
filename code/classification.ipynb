{
 "cells": [
  {
   "attachments": {},
   "cell_type": "markdown",
   "metadata": {},
   "source": [
    "# Classification of Mock vs Real Care"
   ]
  },
  {
   "cell_type": "code",
   "execution_count": null,
   "metadata": {},
   "outputs": [],
   "source": [
    "import numpy as np\n",
    "import tensorflow\n",
    "from sklearn.model_selection import train_test_split\n",
    "from tensorflow.keras.preprocessing.sequence import pad_sequences\n",
    "\n",
    "def preprocess_data(data, sequence_length):\n",
    "    # Flatten the list of sequences into a single string\n",
    "    data = ''.join(data)\n",
    "    \n",
    "    # Create a mapping from surfaces to integers\n",
    "    surfaces = sorted(set(data))\n",
    "    surface_to_int = dict((c, i) for i, c in enumerate(surfaces))\n",
    "    \n",
    "    # Convert the data to integers using the surface-to-integer mapping\n",
    "    data_int = [surface_to_int[c] for c in data]\n",
    "    \n",
    "    # Split the data into input sequences and labels\n",
    "    inputs = []\n",
    "    labels = []\n",
    "    for i in range(0, len(data_int) - sequence_length, 1):\n",
    "        inputs.append(data_int[i:i + sequence_length])\n",
    "        labels.append(data_int[i + sequence_length])\n",
    "        \n",
    "    # One-hot encode the labels\n",
    "    labels = tensorflow.keras.utils.to_categorical(labels)\n",
    "    \n",
    "    # Pad the input sequences with zeros to make them all the same length\n",
    "    inputs = tensorflow.keras.preprocessing.sequence.pad_sequences(inputs, maxlen=sequence_length, padding='pre', value=0)\n",
    "    \n",
    "    # Split the data into training and testing sets\n",
    "    x_train, x_test, y_train, y_test = train_test_split(inputs, labels, test_size=0.2, random_state=42)\n",
    "    \n",
    "    return x_train, x_test, y_train, y_test, surface_to_int\n"
   ]
  },
  {
   "cell_type": "code",
   "execution_count": null,
   "metadata": {},
   "outputs": [],
   "source": [
    "\n",
    "\n",
    "import tensorflow as tf\n",
    "from tensorflow.keras.layers import Embedding, LSTM, Dense\n",
    "from tensorflow.keras.models import Sequential\n",
    "from sklearn.model_selection import train_test_split, encode_input_sequence, decode_prediction\n",
    "\n",
    "# Preprocess the data\n",
    "x_train, x_test, y_train, y_test, surface_to_int = preprocess_data(data, sequence_length=3)\n",
    "\n",
    "\n"
   ]
  },
  {
   "cell_type": "code",
   "execution_count": null,
   "metadata": {},
   "outputs": [],
   "source": [
    "import tensorflow as tensorflow\n",
    "from tensorflow.keras.layers import Embedding, LSTM, Dense\n",
    "from tensorflow.keras.models import Sequential\n",
    "\n",
    "def build_and_train_model(x_train, y_train, x_test, y_test, surface_to_int, sequence_length, epochs=100):\n",
    "    # Build the model\n",
    "    model = Sequential()\n",
    "    model.add(Embedding(input_dim=len(surface_to_int), output_dim=10, input_length=sequence_length))\n",
    "    model.add(LSTM(units=50))\n",
    "    model.add(Dense(units=y_train.shape[1], activation='softmax'))\n",
    "\n",
    "    tensorflow.config.run_functions_eagerly(True)\n",
    "    \n",
    "    # Compile the model\n",
    "    model.compile(loss='categorical_crossentropy', optimizer='adam', metrics=['accuracy'],run_eagerly=True)\n",
    "    \n",
    "    # Train the model\n",
    "    model.fit(x_train, y_train, epochs=epochs, validation_data=(x_test, y_test))\n",
    "    \n",
    "    return model, surface_to_int\n"
   ]
  },
  {
   "attachments": {},
   "cell_type": "markdown",
   "metadata": {},
   "source": [
    "## Import the Sequence Data"
   ]
  },
  {
   "cell_type": "code",
   "execution_count": null,
   "metadata": {},
   "outputs": [],
   "source": []
  },
  {
   "cell_type": "markdown",
   "metadata": {},
   "source": []
  },
  {
   "cell_type": "code",
   "execution_count": null,
   "metadata": {},
   "outputs": [],
   "source": [
    "# Toy dataset of surface contacts\n",
    "data = ['ABGFGE', 'GBESGSGS', 'EEGEGEGEBAE']\n",
    "\n",
    "# Preprocess the data\n",
    "x_train, x_test, y_train, y_test, surface_to_int = preprocess_data(data, sequence_length=11)\n",
    "\n",
    "\n",
    "# Build and train the model\n",
    "model, surface_to_int = build_and_train_model(x_train, y_train, x_test, y_test, surface_to_int, sequence_length=11)"
   ]
  },
  {
   "attachments": {},
   "cell_type": "markdown",
   "metadata": {},
   "source": [
    "## Classification test"
   ]
  },
  {
   "cell_type": "code",
   "execution_count": null,
   "metadata": {},
   "outputs": [],
   "source": [
    "# Encode the input sequence\n",
    "input_sequence = ['A', 'B', 'F']\n",
    "encoded_sequence = encode_input_sequence(input_sequence, surface_to_int)\n",
    "\n",
    "# Make a prediction\n",
    "prediction = model.predict(encoded_sequence)\n",
    "\n",
    "# Decode the prediction\n",
    "predicted_label = decode_prediction(prediction, surface_to_int)\n",
    "print(f'Predicted label: {predicted_label}')\n"
   ]
  },
  {
   "cell_type": "code",
   "execution_count": null,
   "metadata": {},
   "outputs": [],
   "source": [
    "loss, accuracy = model.evaluate(x_test, y_test)\n",
    "print(f'Test loss: {loss:.4f}, Test accuracy: {accuracy:.4f}')"
   ]
  }
 ],
 "metadata": {
  "kernelspec": {
   "display_name": "Python 3",
   "language": "python",
   "name": "python3"
  },
  "language_info": {
   "name": "python",
   "version": "3.10.4 (main, Nov 29 2022, 20:00:25) [GCC 9.4.0]"
  },
  "orig_nbformat": 4,
  "vscode": {
   "interpreter": {
    "hash": "3ad933181bd8a04b432d3370b9dc3b0662ad032c4dfaa4e4f1596c548f763858"
   }
  }
 },
 "nbformat": 4,
 "nbformat_minor": 2
}
